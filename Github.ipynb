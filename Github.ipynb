{
 "cells": [
  {
   "cell_type": "markdown",
   "id": "bottom-stretch",
   "metadata": {},
   "source": [
    "# Git and Github"
   ]
  },
  {
   "cell_type": "markdown",
   "id": "another-variation",
   "metadata": {},
   "source": [
    "- What is VCS and Git?\n",
    "- What is DVCS?\n",
    "- What is Github?\n",
    "- Why do we need Git and Github?\n",
    "- Fork, Clone, Add, Commit, Push, Pull Operations on Github."
   ]
  },
  {
   "cell_type": "markdown",
   "id": "aboriginal-humanity",
   "metadata": {},
   "source": [
    "- Git - Version Control System\n",
    "- Github - Cloud Repository based on Git"
   ]
  },
  {
   "cell_type": "markdown",
   "id": "bright-framing",
   "metadata": {},
   "source": [
    "VCS\n",
    "- Local VCS\n",
    "- Centralised VCS\n",
    "- Decentralised VCS"
   ]
  },
  {
   "cell_type": "markdown",
   "id": "efficient-quantum",
   "metadata": {},
   "source": [
    "Local System\n",
    "- Working Directory - Untracked Stage\n",
    "- Staging Area - Tracked Stage\n",
    "- Repository "
   ]
  },
  {
   "cell_type": "markdown",
   "id": "painted-carolina",
   "metadata": {},
   "source": [
    "OS Commands:\n",
    "- pwd/cd: Present Working Directory\n",
    "- ls/dir: lists all files and folders in current directory\n",
    "- cd .. : Move one directory back\n",
    "- cd dir_name: Move to specified path\n",
    "- mkdir dir_name: Make new directory\n",
    "- rmdir dir_name: Removes directory if it is empty\n",
    "- rm -rf dir_name: Removes directory if it is not empty"
   ]
  },
  {
   "cell_type": "markdown",
   "id": "lovely-pocket",
   "metadata": {},
   "source": [
    "Git Commands:\n",
    "- For Setup\n",
    "    - git config --global user.name \"user_name\"\n",
    "    - git config --global user.email user_email_address\n",
    "- For VCS    \n",
    "    - git clone repo_link\n",
    "    - cd go_inside_gitFolder\n",
    "    - git status\n",
    "    - git add dir_name/file_name: Move the file to staging area\n",
    "    - git commit -m 'msg': Commit the file to repo with the msg\n",
    "    - git push - push the code to cloud repo (Enter credential for the first time)\n",
    "    - git pull - pull changes from the cloud to local repo\n",
    "    "
   ]
  },
  {
   "cell_type": "code",
   "execution_count": null,
   "id": "pointed-crawford",
   "metadata": {},
   "outputs": [],
   "source": [
    "# git config [--global] --replace-all user.name \"Full Name\"\n",
    "# git config [--global] --replace-all user.email \"email@address.com\"\n",
    "# git config --get remote.origin.url\n",
    "# git remote set-url origin https://{new url with username replaced}"
   ]
  },
  {
   "cell_type": "code",
   "execution_count": null,
   "id": "conventional-leadership",
   "metadata": {},
   "outputs": [],
   "source": [
    "# echo \"# repo_name\" >> README.md\n",
    "# git init\n",
    "# git add README.md\n",
    "# git commit -m \"first commit\"\n",
    "# git branch -M main\n",
    "# git remote add origin https://github.com/harshil2712/jb-ug.git\n",
    "# git push -u origin main"
   ]
  }
 ],
 "metadata": {
  "kernelspec": {
   "display_name": "Python 3",
   "language": "python",
   "name": "python3"
  },
  "language_info": {
   "codemirror_mode": {
    "name": "ipython",
    "version": 3
   },
   "file_extension": ".py",
   "mimetype": "text/x-python",
   "name": "python",
   "nbconvert_exporter": "python",
   "pygments_lexer": "ipython3",
   "version": "3.9.1"
  }
 },
 "nbformat": 4,
 "nbformat_minor": 5
}
